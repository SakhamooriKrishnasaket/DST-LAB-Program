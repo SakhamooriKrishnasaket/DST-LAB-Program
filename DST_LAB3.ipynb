{
  "nbformat": 4,
  "nbformat_minor": 0,
  "metadata": {
    "colab": {
      "provenance": []
    },
    "kernelspec": {
      "name": "python3",
      "display_name": "Python 3"
    },
    "language_info": {
      "name": "python"
    }
  },
  "cells": [
    {
      "cell_type": "code",
      "source": [
        "class Node:\n",
        "\tdef __init__(self, data):\n",
        "\t\tself.data = data\n",
        "\t\tself.next = None\n",
        "\n",
        "def push(head, data):\n",
        "\n",
        "\tnewP = Node(data)\n",
        "\tnewP.next = head\n",
        "\n",
        "\tif head != None:\n",
        "\n",
        "\t\ttemp = head\n",
        "\t\twhile (temp.next != head):\n",
        "\t\t\ttemp = temp.next\n",
        "\t\ttemp.next = newP\n",
        "\telse:\n",
        "\t\tnewP.next = newP\n",
        "\thead = newP\n",
        "\treturn head\n",
        "\n",
        "def printList(head):\n",
        "\tif head == None:\n",
        "\t\tprint(\"List is Empty\")\n",
        "\t\treturn\n",
        "\ttemp = head.next\n",
        "\tprint(head.data, end=' ')\n",
        "\tif (head != None):\n",
        "\t\twhile (temp != head):\n",
        "\t\t\tprint(temp.data, end=\" \")\n",
        "\t\t\ttemp = temp.next\n",
        "\tprint()\n",
        "\n",
        "def deleteNode(head, key):\n",
        "\n",
        "\tif (head == None):\n",
        "\t\treturn\n",
        "\n",
        "\tif (head.data == key and head.next == head):\n",
        "\t\thead = None\n",
        "\t\treturn\n",
        "\n",
        "\tlast = head\n",
        "\n",
        "\tif (head.data == key):\n",
        "\n",
        "\t\twhile (last.next != head):\n",
        "\t\t\tlast = last.next\n",
        "\n",
        "\t\tlast.next = head.next\n",
        "\t\thead = last.next\n",
        "\t\treturn\n",
        "\n",
        "\twhile (last.next != head and last.next.data != key):\n",
        "\t\tlast = last.next\n",
        "\n",
        "\tif (last.next.data == key):\n",
        "\t\td = last.next\n",
        "\t\tlast.next = d.next\n",
        "\t\td = None\n",
        "\telse:\n",
        "\t\tprint(\"Given node is not found in the list!!!\")\n",
        "\n",
        "\n",
        "head = None\n",
        "\n",
        "head = push(head, 8)\n",
        "head = push(head, 19)\n",
        "head = push(head, 12)\n",
        "head = push(head, 33)\n",
        "head = push(head, 45)\n",
        "\n",
        "print(\"List Before Deletion: \")\n",
        "printList(head)\n",
        "\n",
        "deleteNode(head, 12)\n",
        "print(\"List After Deletion: \")\n",
        "printList(head)\n"
      ],
      "metadata": {
        "colab": {
          "base_uri": "https://localhost:8080/"
        },
        "id": "L93i6Lqwlnfe",
        "outputId": "c4932ac0-781e-40d2-cefc-9dceb2f4d27c"
      },
      "execution_count": null,
      "outputs": [
        {
          "output_type": "stream",
          "name": "stdout",
          "text": [
            "List Before Deletion: \n",
            "45 33 12 19 8 \n",
            "List After Deletion: \n",
            "45 33 19 8 \n"
          ]
        }
      ]
    },
    {
      "cell_type": "code",
      "source": [
        "stack=[]\n",
        "stack.append(20)\n",
        "stack.append(40)\n",
        "stack.append(70)\n",
        "print(\"The data in stack before pop\")\n",
        "print(stack)\n",
        "stack.pop(2)\n",
        "print(\"The Data in stack after pop\")\n",
        "print(stack)"
      ],
      "metadata": {
        "colab": {
          "base_uri": "https://localhost:8080/"
        },
        "id": "8S7FnMH3ol3-",
        "outputId": "67101dd0-45ea-4425-93c3-44873f748fe7"
      },
      "execution_count": null,
      "outputs": [
        {
          "output_type": "stream",
          "name": "stdout",
          "text": [
            "The data in stack before pop\n",
            "[20, 40, 70]\n",
            "The Data in stack after pop\n",
            "[20, 40]\n"
          ]
        }
      ]
    },
    {
      "cell_type": "code",
      "source": [
        "def createStack():\n",
        "    stack = []\n",
        "    return stack\n",
        "def push(stack, item):\n",
        "\n",
        "  stack.append(item)\n",
        "  print(item )\n",
        "def isEmpty(stack):\n",
        "    return len(stack) == 0\n",
        "def pop(stack):\n",
        "  if (isEmpty(stack)):\n",
        "    return str()\n",
        "\n",
        "    return stack.pop()\n",
        "stack = createStack()\n",
        "push(stack, str(34))\n",
        "push(stack, str(56))\n",
        "push(stack, str(585))\n",
        "\n",
        "print(stack.pop())\n"
      ],
      "metadata": {
        "colab": {
          "base_uri": "https://localhost:8080/"
        },
        "id": "hlc0ZA74p26e",
        "outputId": "f902cad7-5bbf-40d0-fe7f-224d5e79c133"
      },
      "execution_count": null,
      "outputs": [
        {
          "output_type": "stream",
          "name": "stdout",
          "text": [
            "34\n",
            "56\n",
            "585\n",
            "585\n"
          ]
        }
      ]
    },
    {
      "cell_type": "code",
      "source": [
        "stack=[]\n",
        "def push(data):\n",
        "  stack.append(data)\n",
        "n=int(input(\"Enter the number of elements\"))\n",
        "print(\"Enter the element\")\n",
        "while n:\n",
        "  x=int(input())\n",
        "  push(x)\n",
        "  n=n-1\n",
        "print(stack)"
      ],
      "metadata": {
        "colab": {
          "base_uri": "https://localhost:8080/"
        },
        "id": "DoU0Ft9AwWRH",
        "outputId": "13bac3e9-6663-45c9-fde4-687aff2f3c83"
      },
      "execution_count": null,
      "outputs": [
        {
          "output_type": "stream",
          "name": "stdout",
          "text": [
            "Enter the number of elements4\n",
            "Enter the element\n",
            "4\n",
            "5\n",
            "6\n",
            "87\n",
            "[4, 5, 6, 87]\n"
          ]
        }
      ]
    },
    {
      "cell_type": "code",
      "source": [],
      "metadata": {
        "id": "QaJNc48fwoqA"
      },
      "execution_count": null,
      "outputs": []
    }
  ]
}