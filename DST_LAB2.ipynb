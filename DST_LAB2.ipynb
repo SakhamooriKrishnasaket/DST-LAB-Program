{
  "nbformat": 4,
  "nbformat_minor": 0,
  "metadata": {
    "colab": {
      "provenance": []
    },
    "kernelspec": {
      "name": "python3",
      "display_name": "Python 3"
    },
    "language_info": {
      "name": "python"
    }
  },
  "cells": [
    {
      "cell_type": "code",
      "execution_count": 2,
      "metadata": {
        "colab": {
          "base_uri": "https://localhost:8080/"
        },
        "id": "LZWTjhjxicCw",
        "outputId": "edb0e8ea-f4f0-4e82-c652-20dbf746d010"
      },
      "outputs": [
        {
          "output_type": "stream",
          "name": "stdout",
          "text": [
            "Original doubly linked list:\n",
            "0 1 2 3 \n",
            "Doubly linked list after deleting 2:\n",
            "0 1 3 \n"
          ]
        }
      ],
      "source": [
        "#Doubly linked list\n",
        "class Node:\n",
        "    def __init__(self, data=None, prev=None, next=None):\n",
        "        self.data = data\n",
        "        self.prev = prev\n",
        "        self.next = next\n",
        "\n",
        "class DoublyLinkedList:\n",
        "    def __init__(self):\n",
        "        self.head = None\n",
        "\n",
        "    def append(self, data):\n",
        "        new_node = Node(data)\n",
        "        if not self.head:\n",
        "            self.head = new_node\n",
        "        else:\n",
        "            current = self.head\n",
        "            while current.next:\n",
        "                current = current.next\n",
        "            current.next = new_node\n",
        "            new_node.prev = current\n",
        "\n",
        "    def prepend(self, data):\n",
        "        new_node = Node(data)\n",
        "        if not self.head:\n",
        "            self.head = new_node\n",
        "        else:\n",
        "            new_node.next = self.head\n",
        "            self.head.prev = new_node\n",
        "            self.head = new_node\n",
        "\n",
        "    def delete(self, data):\n",
        "        current = self.head\n",
        "        while current:\n",
        "            if current.data == data:\n",
        "                if current.prev:\n",
        "                    current.prev.next = current.next\n",
        "                else:\n",
        "                    self.head = current.next\n",
        "\n",
        "                if current.next:\n",
        "                    current.next.prev = current.prev\n",
        "                break\n",
        "            current = current.next\n",
        "\n",
        "    def display(self):\n",
        "        current = self.head\n",
        "        while current:\n",
        "            print(current.data, end=\" \")\n",
        "            current = current.next\n",
        "        print()\n",
        "\n",
        "dll = DoublyLinkedList()\n",
        "dll.append(1)\n",
        "dll.append(2)\n",
        "dll.append(3)\n",
        "dll.prepend(0)\n",
        "\n",
        "print(\"Original doubly linked list:\")\n",
        "dll.display()\n",
        "\n",
        "dll.delete(2)\n",
        "\n",
        "print(\"Doubly linked list after deleting 2:\")\n",
        "dll.display()\n"
      ]
    }
  ]
}